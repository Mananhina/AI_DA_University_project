{
 "cells": [
  {
   "cell_type": "markdown",
   "id": "6fdb0b90",
   "metadata": {},
   "source": [
    "# Data on the number of fires in Brazil"
   ]
  },
  {
   "cell_type": "markdown",
   "id": "9ee523a0",
   "metadata": {},
   "source": [
    "## Analysis of a dataset containing information on the number of fires in various regions of Brazil from 1998 to 2017"
   ]
  },
  {
   "cell_type": "code",
   "execution_count": 2,
   "id": "1d9de599",
   "metadata": {},
   "outputs": [],
   "source": [
    "import pandas as pd\n",
    "import numpy as np\n",
    "import seaborn as sns \n",
    "import matplotlib.pyplot as plt\n",
    "\n",
    "from sklearn import decomposition\n",
    "from tqdm.notebook import tqdm\n",
    "from sklearn import tree\n",
    "from sklearn.tree import DecisionTreeClassifier\n",
    "from sklearn import preprocessing\n",
    "from sklearn.preprocessing import StandardScaler\n",
    "from sklearn.neighbors import KNeighborsClassifier\n",
    "from sklearn.linear_model import SGDClassifier\n",
    "from sklearn.linear_model import LogisticRegression\n",
    "from sklearn.linear_model import LinearRegression\n",
    "from sklearn.metrics import recall_score\n",
    "from sklearn.metrics import precision_score, accuracy_score\n",
    "from sklearn.metrics import classification_report\n",
    "from sklearn.decomposition import PCA\n",
    "from sklearn.model_selection import GridSearchCV\n",
    "from sklearn.model_selection import train_test_split\n",
    "from sklearn.ensemble import RandomForestClassifier "
   ]
  },
  {
   "cell_type": "code",
   "execution_count": 4,
   "id": "864ce02a",
   "metadata": {},
   "outputs": [],
   "source": [
    "import warnings\n",
    "warnings.filterwarnings('ignore')"
   ]
  },
  {
   "cell_type": "code",
   "execution_count": 6,
   "id": "bf75821a",
   "metadata": {},
   "outputs": [
    {
     "name": "stdout",
     "output_type": "stream",
     "text": [
      "<class 'pandas.core.frame.DataFrame'>\n",
      "RangeIndex: 6454 entries, 0 to 6453\n",
      "Data columns (total 5 columns):\n",
      " #   Column  Non-Null Count  Dtype  \n",
      "---  ------  --------------  -----  \n",
      " 0   year    6454 non-null   int64  \n",
      " 1   state   6454 non-null   object \n",
      " 2   month   6454 non-null   object \n",
      " 3   number  6454 non-null   float64\n",
      " 4   date    6454 non-null   object \n",
      "dtypes: float64(1), int64(1), object(3)\n",
      "memory usage: 252.2+ KB\n"
     ]
    }
   ],
   "source": [
    "# Read the data\n",
    "data_raw = pd.read_csv('amazon.csv', encoding='latin1')\n",
    "data_raw.info()"
   ]
  },
  {
   "cell_type": "markdown",
   "id": "7f32cf2d",
   "metadata": {},
   "source": [
    "Based on the analysis carried out in work №. 5 for this dataset, the fetaures by which predictive models can be built is the number of fires - a real parameter"
   ]
  },
  {
   "cell_type": "markdown",
   "id": "49c6379e",
   "metadata": {},
   "source": [
    "## Data preparation"
   ]
  },
  {
   "cell_type": "code",
   "execution_count": 7,
   "id": "3cc98531",
   "metadata": {},
   "outputs": [],
   "source": [
    "columns = [\"year\", \"state\", \"month\", \"number\"]\n",
    "data1 = data_raw.loc[:, data_raw.columns.isin(columns)]"
   ]
  },
  {
   "cell_type": "code",
   "execution_count": 7,
   "id": "bec0e9ba",
   "metadata": {},
   "outputs": [
    {
     "name": "stdout",
     "output_type": "stream",
     "text": [
      "<class 'pandas.core.frame.DataFrame'>\n",
      "Int64Index: 5737 entries, 0 to 6453\n",
      "Data columns (total 4 columns):\n",
      " #   Column  Non-Null Count  Dtype  \n",
      "---  ------  --------------  -----  \n",
      " 0   year    5737 non-null   int64  \n",
      " 1   state   5737 non-null   object \n",
      " 2   month   5737 non-null   object \n",
      " 3   number  5737 non-null   float64\n",
      "dtypes: float64(1), int64(1), object(2)\n",
      "memory usage: 224.1+ KB\n"
     ]
    }
   ],
   "source": [
    "data1 = data1.drop(data1[data1['state'] == 'Rio'].index)\n",
    "data1.info()"
   ]
  },
  {
   "cell_type": "markdown",
   "id": "06001ed0",
   "metadata": {},
   "source": [
    "Create a column with month numbers"
   ]
  },
  {
   "cell_type": "code",
   "execution_count": 8,
   "id": "444159ff",
   "metadata": {},
   "outputs": [],
   "source": [
    "months_map = {'Janeiro' : 1, 'Fevereiro' : 2, 'Março' : 3, 'Abril' : 4, 'Maio' : 5, 'Junho' : 6,\n",
    "             'Julho' : 7, 'Agosto' : 8, 'Setembro' : 9, 'Outubro' : 10, 'Novembro' : 11, 'Dezembro' : 12}\n",
    "\n",
    "data1['month_number'] = data1['month']\n",
    "for mon in months_map.keys():\n",
    "    data1['month_number'] = np.where(data1['month_number'] == mon, int(months_map[mon]), data1['month_number'])"
   ]
  },
  {
   "cell_type": "markdown",
   "id": "f4cfd30c",
   "metadata": {},
   "source": [
    "Now let's get dummy variables responsible for the time of year"
   ]
  },
  {
   "cell_type": "code",
   "execution_count": 9,
   "id": "dc763520",
   "metadata": {},
   "outputs": [],
   "source": [
    "data1['IsWinter'] = np.where(data1['month_number'] <= 2, 1, 0)\n",
    "data1['IsWinter'] = np.where(data1['month_number'] == 12, 1, data1['IsWinter'])\n",
    "\n",
    "data1['IsSpring'] = np.where(data1['month_number'] <= 5, 1, 0)\n",
    "data1['IsSpring'] = np.where(data1['month_number'] <= 2, 0, data1['IsSpring'])\n",
    "\n",
    "data1['IsSummer'] = np.where(data1['month_number'] <= 8, 1, 0)\n",
    "data1['IsSummer'] = np.where(data1['month_number'] <= 5, 0, data1['IsSummer'])"
   ]
  },
  {
   "cell_type": "code",
   "execution_count": 10,
   "id": "dcbeb5a1",
   "metadata": {},
   "outputs": [],
   "source": [
    "data1['IsAutumn'] = np.where(data1['month_number'] >= 9, 1, 0)\n",
    "data1['IsAutumn'] = np.where(data1['month_number'] == 12, 0, data1['IsAutumn'])"
   ]
  },
  {
   "cell_type": "markdown",
   "id": "ea6424d3",
   "metadata": {},
   "source": [
    "Since the column with the name of the states is the most numerous, we will also create generalized dummy variables for it, showing belonging to the district in accordance with the administrative division"
   ]
  },
  {
   "cell_type": "code",
   "execution_count": 11,
   "id": "4ec43ea8",
   "metadata": {},
   "outputs": [],
   "source": [
    "rows_number = 5737\n",
    "North_States = ['Acre', 'Amapa', 'Amazonas', 'Pará', 'Rondonia', 'Roraima']\n",
    "N_S_map = {state : 1 for state in North_States}\n",
    "\n",
    "data1['IsNorth'] = [0] * rows_number\n",
    "for state in N_S_map.keys():\n",
    "    data1['IsNorth'] =  np.where(data1['state'] == state, N_S_map[state], data1['IsNorth'])"
   ]
  },
  {
   "cell_type": "code",
   "execution_count": 12,
   "id": "48547123",
   "metadata": {},
   "outputs": [],
   "source": [
    "North_West_States = ['Alagoas', 'Bahia', 'Ceara', 'Maranhao',\n",
    "               'Paraiba', 'Pernambuco', 'Piau',\n",
    "               'Sergipe', 'Tocantins']\n",
    "N_W_S_map = {state : 1 for state in North_West_States}\n",
    "\n",
    "data1['IsNorthWest'] = [0] * rows_number\n",
    "for state in N_W_S_map.keys():\n",
    "    data1['IsNorthWest'] =  np.where(data1['state'] == state, N_W_S_map[state], data1['IsNorthWest'])"
   ]
  },
  {
   "cell_type": "code",
   "execution_count": 13,
   "id": "58b3a10e",
   "metadata": {},
   "outputs": [],
   "source": [
    "Center_West_States = ['Distrito Federal', 'Goias','Mato Grosso']\n",
    "C_W_map = {state : 1 for state in Center_West_States}\n",
    "\n",
    "data1['IsCenterWest'] = [0] * rows_number\n",
    "for state in C_W_map.keys():\n",
    "    data1['IsCenterWest'] =  np.where(data1['state'] == state, C_W_map[state], data1['IsCenterWest'])"
   ]
  },
  {
   "cell_type": "code",
   "execution_count": 14,
   "id": "78e865dc",
   "metadata": {},
   "outputs": [],
   "source": [
    "South_West_States = ['Espirito Santo', 'Minas Gerais', 'Sao Paulo']\n",
    "S_W_map = {state : 1 for state in South_West_States}\n",
    "\n",
    "data1['IsSouthWest'] = [0] * rows_number\n",
    "for state in S_W_map.keys():\n",
    "    data1['IsSouthWest'] =  np.where(data1['state'] == state, S_W_map[state], data1['IsSouthWest'])"
   ]
  },
  {
   "cell_type": "code",
   "execution_count": 15,
   "id": "940b8523",
   "metadata": {},
   "outputs": [],
   "source": [
    "data1['IsSouth'] = [0] * rows_number\n",
    "data1['IsSouth'] =  np.where(data1['state'] == 'Santa Catarina', 1, data1['IsSouth'])"
   ]
  },
  {
   "cell_type": "code",
   "execution_count": 16,
   "id": "38083cd2",
   "metadata": {},
   "outputs": [],
   "source": [
    "data1[\"number\"] = data1[\"number\"].apply(int)\n",
    "data1[\"month_number\"] = data1[\"month_number\"].apply(int)"
   ]
  },
  {
   "cell_type": "code",
   "execution_count": 17,
   "id": "df4b3f0d",
   "metadata": {},
   "outputs": [],
   "source": [
    "# Remove unnecessary variables from data\n",
    "data1 = data1.drop(columns = [\"month\", \"state\", \"month_number\"], axis = 1)"
   ]
  },
  {
   "cell_type": "markdown",
   "id": "5c5c2409",
   "metadata": {},
   "source": [
    "Let's introduce a new dataset and normalize the columns with real values"
   ]
  },
  {
   "cell_type": "code",
   "execution_count": 497,
   "id": "ba0765bf",
   "metadata": {},
   "outputs": [],
   "source": [
    "columns3 = [\"year\", \"number\", \"IsWinter\", \"IsSpring\", \"IsSummer\", \"IsAutumn\",\n",
    "            \"IsNorth\", \"IsNorthWest\", \"IsCenterWest\", \"IsSouthWest\", \"IsSouth\"]\n",
    "data3 = data1.loc[:, data1.columns.isin(columns3)]"
   ]
  },
  {
   "cell_type": "code",
   "execution_count": 498,
   "id": "22940616",
   "metadata": {},
   "outputs": [],
   "source": [
    "data3[\"number\"] = (data3[\"number\"] - data3[\"number\"].mean())/data3[\"number\"].std()\n",
    "data3[\"year\"] = (data3[\"year\"] - data3[\"year\"].mean())/data3[\"year\"].std()"
   ]
  },
  {
   "cell_type": "code",
   "execution_count": 424,
   "id": "fb775bc9",
   "metadata": {},
   "outputs": [
    {
     "data": {
      "text/html": [
       "<div>\n",
       "<style scoped>\n",
       "    .dataframe tbody tr th:only-of-type {\n",
       "        vertical-align: middle;\n",
       "    }\n",
       "\n",
       "    .dataframe tbody tr th {\n",
       "        vertical-align: top;\n",
       "    }\n",
       "\n",
       "    .dataframe thead th {\n",
       "        text-align: right;\n",
       "    }\n",
       "</style>\n",
       "<table border=\"1\" class=\"dataframe\">\n",
       "  <thead>\n",
       "    <tr style=\"text-align: right;\">\n",
       "      <th></th>\n",
       "      <th>year</th>\n",
       "      <th>number</th>\n",
       "      <th>IsWinter</th>\n",
       "      <th>IsSpring</th>\n",
       "      <th>IsSummer</th>\n",
       "      <th>IsAutumn</th>\n",
       "      <th>IsNorth</th>\n",
       "      <th>IsNorthWest</th>\n",
       "      <th>IsCenterWest</th>\n",
       "      <th>IsSouthWest</th>\n",
       "      <th>IsSouth</th>\n",
       "    </tr>\n",
       "  </thead>\n",
       "  <tbody>\n",
       "    <tr>\n",
       "      <th>0</th>\n",
       "      <td>-1.646465</td>\n",
       "      <td>-0.576265</td>\n",
       "      <td>1</td>\n",
       "      <td>0</td>\n",
       "      <td>0</td>\n",
       "      <td>0</td>\n",
       "      <td>1</td>\n",
       "      <td>0</td>\n",
       "      <td>0</td>\n",
       "      <td>0</td>\n",
       "      <td>0</td>\n",
       "    </tr>\n",
       "    <tr>\n",
       "      <th>1</th>\n",
       "      <td>-1.472455</td>\n",
       "      <td>-0.576265</td>\n",
       "      <td>1</td>\n",
       "      <td>0</td>\n",
       "      <td>0</td>\n",
       "      <td>0</td>\n",
       "      <td>1</td>\n",
       "      <td>0</td>\n",
       "      <td>0</td>\n",
       "      <td>0</td>\n",
       "      <td>0</td>\n",
       "    </tr>\n",
       "    <tr>\n",
       "      <th>2</th>\n",
       "      <td>-1.298445</td>\n",
       "      <td>-0.576265</td>\n",
       "      <td>1</td>\n",
       "      <td>0</td>\n",
       "      <td>0</td>\n",
       "      <td>0</td>\n",
       "      <td>1</td>\n",
       "      <td>0</td>\n",
       "      <td>0</td>\n",
       "      <td>0</td>\n",
       "      <td>0</td>\n",
       "    </tr>\n",
       "    <tr>\n",
       "      <th>3</th>\n",
       "      <td>-1.124436</td>\n",
       "      <td>-0.576265</td>\n",
       "      <td>1</td>\n",
       "      <td>0</td>\n",
       "      <td>0</td>\n",
       "      <td>0</td>\n",
       "      <td>1</td>\n",
       "      <td>0</td>\n",
       "      <td>0</td>\n",
       "      <td>0</td>\n",
       "      <td>0</td>\n",
       "    </tr>\n",
       "    <tr>\n",
       "      <th>4</th>\n",
       "      <td>-0.950426</td>\n",
       "      <td>-0.576265</td>\n",
       "      <td>1</td>\n",
       "      <td>0</td>\n",
       "      <td>0</td>\n",
       "      <td>0</td>\n",
       "      <td>1</td>\n",
       "      <td>0</td>\n",
       "      <td>0</td>\n",
       "      <td>0</td>\n",
       "      <td>0</td>\n",
       "    </tr>\n",
       "  </tbody>\n",
       "</table>\n",
       "</div>"
      ],
      "text/plain": [
       "       year    number  IsWinter  IsSpring  IsSummer  IsAutumn  IsNorth  \\\n",
       "0 -1.646465 -0.576265         1         0         0         0        1   \n",
       "1 -1.472455 -0.576265         1         0         0         0        1   \n",
       "2 -1.298445 -0.576265         1         0         0         0        1   \n",
       "3 -1.124436 -0.576265         1         0         0         0        1   \n",
       "4 -0.950426 -0.576265         1         0         0         0        1   \n",
       "\n",
       "   IsNorthWest  IsCenterWest  IsSouthWest  IsSouth  \n",
       "0            0             0            0        0  \n",
       "1            0             0            0        0  \n",
       "2            0             0            0        0  \n",
       "3            0             0            0        0  \n",
       "4            0             0            0        0  "
      ]
     },
     "execution_count": 424,
     "metadata": {},
     "output_type": "execute_result"
    }
   ],
   "source": [
    "data3.head()"
   ]
  },
  {
   "cell_type": "markdown",
   "id": "bb893ca8",
   "metadata": {},
   "source": [
    "## Linear regression"
   ]
  },
  {
   "cell_type": "markdown",
   "id": "b0c2cd70",
   "metadata": {},
   "source": [
    "Let's build a linear regression on this data"
   ]
  },
  {
   "cell_type": "code",
   "execution_count": 425,
   "id": "eca5c60a",
   "metadata": {},
   "outputs": [],
   "source": [
    "test = data3[\"number\"]\n",
    "train = data3.drop(['number'], axis=1) \n",
    "X_train, X_test, y_train, y_test = train_test_split(train, test, test_size = 0.3, random_state = 1)"
   ]
  },
  {
   "cell_type": "code",
   "execution_count": 389,
   "id": "bd0d8552",
   "metadata": {},
   "outputs": [
    {
     "data": {
      "text/plain": [
       "LinearRegression()"
      ]
     },
     "execution_count": 389,
     "metadata": {},
     "output_type": "execute_result"
    }
   ],
   "source": [
    "linmodel = LinearRegression()\n",
    "linmodel.fit(X_train,y_train)"
   ]
  },
  {
   "cell_type": "code",
   "execution_count": 391,
   "id": "024eb5bf",
   "metadata": {},
   "outputs": [
    {
     "data": {
      "text/plain": [
       "0.7003484320557491"
      ]
     },
     "execution_count": 391,
     "metadata": {},
     "output_type": "execute_result"
    }
   ],
   "source": [
    "linmodel.score(X_test, y_test)"
   ]
  },
  {
   "cell_type": "markdown",
   "id": "009a647d",
   "metadata": {},
   "source": [
    "The accuracy of the resulting model is 70%. This is a fairly good value given the small number of variables describing the number of fires"
   ]
  },
  {
   "cell_type": "markdown",
   "id": "00ab5f29",
   "metadata": {},
   "source": [
    "## Classification"
   ]
  },
  {
   "cell_type": "markdown",
   "id": "1a8b1050",
   "metadata": {},
   "source": [
    "Let's try to solve the classification problem on these data. Let's split the values of the 'number' column into classes. Select 10 classes, the class number is one less than the number of hundreds of the value of the column 'number'"
   ]
  },
  {
   "cell_type": "code",
   "execution_count": 38,
   "id": "c1c84800",
   "metadata": {},
   "outputs": [],
   "source": [
    "columns2 = [\"year\", \"number\", \"IsWinter\", \"IsSpring\", \"IsSummer\", \"IsAutumn\",\n",
    "            \"IsNorth\", \"IsNorthWest\", \"IsCenterWest\", \"IsSouthWest\", \"IsSouth\"]\n",
    "data2 = data1.loc[:, data1.columns.isin(columns2)]"
   ]
  },
  {
   "cell_type": "code",
   "execution_count": 39,
   "id": "a346d02c",
   "metadata": {},
   "outputs": [],
   "source": [
    "data2['fire_level'] = data2['number']\n",
    "data2['fire_level'] = np.where(data2['fire_level'] <= 99, 1, data2['fire_level'])\n",
    "data2['fire_level'] = np.where(data2['fire_level'] >= 900, 10, data2['fire_level'])\n",
    "data2['fire_level'] = np.where(data2['fire_level'] >= 800, 9, data2['fire_level'])\n",
    "data2['fire_level'] = np.where(data2['fire_level'] >= 700, 8, data2['fire_level'])\n",
    "data2['fire_level'] = np.where(data2['fire_level'] >= 600, 7, data2['fire_level'])\n",
    "data2['fire_level'] = np.where(data2['fire_level'] >= 500, 6, data2['fire_level'])\n",
    "data2['fire_level'] = np.where(data2['fire_level'] >= 400, 5, data2['fire_level'])\n",
    "data2['fire_level'] = np.where(data2['fire_level'] >= 300, 4, data2['fire_level'])\n",
    "data2['fire_level'] = np.where(data2['fire_level'] >= 200, 3, data2['fire_level'])\n",
    "data2['fire_level'] = np.where(data2['fire_level'] >= 100, 2, data2['fire_level'])\n",
    "data2[\"fire_level\"] = data2[\"fire_level\"].apply(int)"
   ]
  },
  {
   "cell_type": "code",
   "execution_count": 40,
   "id": "8868b91c",
   "metadata": {},
   "outputs": [],
   "source": [
    "data2 = data2.drop(columns = [\"number\"], axis = 1)"
   ]
  },
  {
   "cell_type": "code",
   "execution_count": 395,
   "id": "7aae52eb",
   "metadata": {},
   "outputs": [
    {
     "data": {
      "text/html": [
       "<div>\n",
       "<style scoped>\n",
       "    .dataframe tbody tr th:only-of-type {\n",
       "        vertical-align: middle;\n",
       "    }\n",
       "\n",
       "    .dataframe tbody tr th {\n",
       "        vertical-align: top;\n",
       "    }\n",
       "\n",
       "    .dataframe thead th {\n",
       "        text-align: right;\n",
       "    }\n",
       "</style>\n",
       "<table border=\"1\" class=\"dataframe\">\n",
       "  <thead>\n",
       "    <tr style=\"text-align: right;\">\n",
       "      <th></th>\n",
       "      <th>year</th>\n",
       "      <th>IsWinter</th>\n",
       "      <th>IsSpring</th>\n",
       "      <th>IsSummer</th>\n",
       "      <th>IsNorth</th>\n",
       "      <th>IsNorthWest</th>\n",
       "      <th>IsCenterWest</th>\n",
       "      <th>IsSouthWest</th>\n",
       "      <th>IsSouth</th>\n",
       "      <th>fire_level</th>\n",
       "    </tr>\n",
       "  </thead>\n",
       "  <tbody>\n",
       "    <tr>\n",
       "      <th>6449</th>\n",
       "      <td>2012</td>\n",
       "      <td>1</td>\n",
       "      <td>0</td>\n",
       "      <td>0</td>\n",
       "      <td>0</td>\n",
       "      <td>1</td>\n",
       "      <td>0</td>\n",
       "      <td>0</td>\n",
       "      <td>0</td>\n",
       "      <td>2</td>\n",
       "    </tr>\n",
       "    <tr>\n",
       "      <th>6450</th>\n",
       "      <td>2013</td>\n",
       "      <td>1</td>\n",
       "      <td>0</td>\n",
       "      <td>0</td>\n",
       "      <td>0</td>\n",
       "      <td>1</td>\n",
       "      <td>0</td>\n",
       "      <td>0</td>\n",
       "      <td>0</td>\n",
       "      <td>1</td>\n",
       "    </tr>\n",
       "    <tr>\n",
       "      <th>6451</th>\n",
       "      <td>2014</td>\n",
       "      <td>1</td>\n",
       "      <td>0</td>\n",
       "      <td>0</td>\n",
       "      <td>0</td>\n",
       "      <td>1</td>\n",
       "      <td>0</td>\n",
       "      <td>0</td>\n",
       "      <td>0</td>\n",
       "      <td>3</td>\n",
       "    </tr>\n",
       "    <tr>\n",
       "      <th>6452</th>\n",
       "      <td>2015</td>\n",
       "      <td>1</td>\n",
       "      <td>0</td>\n",
       "      <td>0</td>\n",
       "      <td>0</td>\n",
       "      <td>1</td>\n",
       "      <td>0</td>\n",
       "      <td>0</td>\n",
       "      <td>0</td>\n",
       "      <td>4</td>\n",
       "    </tr>\n",
       "    <tr>\n",
       "      <th>6453</th>\n",
       "      <td>2016</td>\n",
       "      <td>1</td>\n",
       "      <td>0</td>\n",
       "      <td>0</td>\n",
       "      <td>0</td>\n",
       "      <td>1</td>\n",
       "      <td>0</td>\n",
       "      <td>0</td>\n",
       "      <td>0</td>\n",
       "      <td>2</td>\n",
       "    </tr>\n",
       "  </tbody>\n",
       "</table>\n",
       "</div>"
      ],
      "text/plain": [
       "      year  IsWinter  IsSpring  IsSummer  IsNorth  IsNorthWest  IsCenterWest  \\\n",
       "6449  2012         1         0         0        0            1             0   \n",
       "6450  2013         1         0         0        0            1             0   \n",
       "6451  2014         1         0         0        0            1             0   \n",
       "6452  2015         1         0         0        0            1             0   \n",
       "6453  2016         1         0         0        0            1             0   \n",
       "\n",
       "      IsSouthWest  IsSouth  fire_level  \n",
       "6449            0        0           2  \n",
       "6450            0        0           1  \n",
       "6451            0        0           3  \n",
       "6452            0        0           4  \n",
       "6453            0        0           2  "
      ]
     },
     "execution_count": 395,
     "metadata": {},
     "output_type": "execute_result"
    }
   ],
   "source": [
    "data2.tail()"
   ]
  },
  {
   "cell_type": "code",
   "execution_count": 41,
   "id": "e5903f47",
   "metadata": {},
   "outputs": [],
   "source": [
    "data2 = data2.sample(frac=1)"
   ]
  },
  {
   "cell_type": "code",
   "execution_count": 506,
   "id": "ebe335e1",
   "metadata": {},
   "outputs": [],
   "source": [
    "# Test and training sets\n",
    "test = data2[\"fire_level\"]\n",
    "train = data2.drop(['fire_level'], axis=1) \n",
    "X_train, X_test, y_train, y_test = train_test_split(train, test, test_size = 0.3, random_state = 1)"
   ]
  },
  {
   "cell_type": "markdown",
   "id": "38419ce3",
   "metadata": {},
   "source": [
    "### Decision tree"
   ]
  },
  {
   "cell_type": "code",
   "execution_count": 507,
   "id": "f775057a",
   "metadata": {},
   "outputs": [
    {
     "name": "stdout",
     "output_type": "stream",
     "text": [
      "1: 0.7171893147502904\n",
      "2: 0.7171893147502904\n",
      "3: 0.7171893147502904\n",
      "4: 0.7171893147502904\n",
      "5: 0.7131242740998839\n",
      "6: 0.710801393728223\n",
      "7: 0.7049941927990708\n",
      "8: 0.7038327526132404\n",
      "9: 0.7032520325203252\n",
      "10: 0.7044134727061556\n",
      "11: 0.7015098722415796\n",
      "12: 0.7015098722415796\n",
      "13: 0.7015098722415796\n",
      "14: 0.7015098722415796\n",
      "15: 0.7015098722415796\n",
      "16: 0.7015098722415796\n",
      "17: 0.7015098722415796\n",
      "18: 0.7015098722415796\n",
      "19: 0.7015098722415796\n",
      "20: 0.7015098722415796\n",
      "21: 0.7015098722415796\n",
      "22: 0.7015098722415796\n",
      "23: 0.7015098722415796\n",
      "24: 0.7015098722415796\n",
      "25: 0.7015098722415796\n",
      "26: 0.7015098722415796\n",
      "27: 0.7015098722415796\n",
      "28: 0.7015098722415796\n",
      "29: 0.7015098722415796\n"
     ]
    }
   ],
   "source": [
    "for i in range(1, 30):\n",
    "    T = DecisionTreeClassifier(random_state=241, max_depth = i)\n",
    "    T = T.fit(X_train, y_train)\n",
    "    print(str(i) + \": \" + str(T.score(X_test, y_test)))"
   ]
  },
  {
   "cell_type": "markdown",
   "id": "f811014c",
   "metadata": {},
   "source": [
    "Note right away that the best accuracy is achieved with a tree with a depth of 1"
   ]
  },
  {
   "cell_type": "code",
   "execution_count": 508,
   "id": "fc0485eb",
   "metadata": {},
   "outputs": [
    {
     "name": "stdout",
     "output_type": "stream",
     "text": [
      "Depth-optimized tree:\n",
      "               precision    recall  f1-score   support\n",
      "\n",
      "           1       0.72      1.00      0.84      1235\n",
      "           2       0.00      0.00      0.00       178\n",
      "           3       0.00      0.00      0.00        83\n",
      "           4       0.00      0.00      0.00        57\n",
      "           5       0.00      0.00      0.00        48\n",
      "           6       0.00      0.00      0.00        28\n",
      "           7       0.00      0.00      0.00        21\n",
      "           8       0.00      0.00      0.00        24\n",
      "           9       0.00      0.00      0.00        24\n",
      "          10       0.00      0.00      0.00        24\n",
      "\n",
      "    accuracy                           0.72      1722\n",
      "   macro avg       0.07      0.10      0.08      1722\n",
      "weighted avg       0.51      0.72      0.60      1722\n",
      "\n"
     ]
    }
   ],
   "source": [
    "Tree = DecisionTreeClassifier(random_state=241, max_depth=1)\n",
    "Tree = Tree.fit(X_train, y_train)\n",
    "report = classification_report(y_test, Tree.predict(X_test), target_names=['1', '2', '3', '4', '5', '6', '7', '8', '9', '10'])\n",
    "print(\"Depth-optimized tree:\\n\", report)"
   ]
  },
  {
   "cell_type": "markdown",
   "id": "6c0049ee",
   "metadata": {},
   "source": [
    "We see that the classifier determines only objects of the first class. Moreover, by the value of the recall metric, we can conclude that it does not mark other classes for the first one"
   ]
  },
  {
   "cell_type": "markdown",
   "id": "4957f8d3",
   "metadata": {},
   "source": [
    "### K-nearest neighbor method"
   ]
  },
  {
   "cell_type": "markdown",
   "id": "110de5e1",
   "metadata": {},
   "source": [
    "Let's try to build a classifier based on another algorithm"
   ]
  },
  {
   "cell_type": "code",
   "execution_count": 509,
   "id": "c7f0e64e",
   "metadata": {},
   "outputs": [],
   "source": [
    "sc = StandardScaler()\n",
    "X_train = sc.fit_transform(X_train)\n",
    "X_test = sc.transform(X_test)"
   ]
  },
  {
   "cell_type": "markdown",
   "id": "fcdf7dc2",
   "metadata": {},
   "source": [
    "Let's find the possible number of neighbors and find the optimal"
   ]
  },
  {
   "cell_type": "code",
   "execution_count": 510,
   "id": "20ce846d",
   "metadata": {},
   "outputs": [
    {
     "name": "stdout",
     "output_type": "stream",
     "text": [
      "Optimal number of nearest neighbors:  23 \n",
      "Maximum accuracy:  71.71893147502904\n"
     ]
    }
   ],
   "source": [
    "ks = []\n",
    "for k in range(1, 50, 2):\n",
    "    classifier = KNeighborsClassifier(n_neighbors = k)\n",
    "    classifier.fit(X_train, y_train)\n",
    "    y_pred = classifier.predict(X_test)\n",
    "    ks.append((accuracy_score(y_test, y_pred)* 100, k))\n",
    "\n",
    "max_accuracy = ks[0][0]\n",
    "max_k = ks[0][1]\n",
    "for i in range(1, len(ks)):\n",
    "    if ks[i][0] > max_accuracy:\n",
    "        max_accuracy = ks[i][0]\n",
    "        max_k = ks[i][1]\n",
    "        \n",
    "print('Optimal number of nearest neighbors: ', max_k, '\\n' + 'Maximum accuracy: ', max_accuracy)"
   ]
  },
  {
   "cell_type": "code",
   "execution_count": 511,
   "id": "d4230c56",
   "metadata": {},
   "outputs": [
    {
     "data": {
      "text/plain": [
       "KNeighborsClassifier(n_neighbors=23)"
      ]
     },
     "execution_count": 511,
     "metadata": {},
     "output_type": "execute_result"
    }
   ],
   "source": [
    "classifier = KNeighborsClassifier(n_neighbors = max_k)\n",
    "classifier.fit(X_train, y_train)"
   ]
  },
  {
   "cell_type": "code",
   "execution_count": 512,
   "id": "3138a964",
   "metadata": {},
   "outputs": [
    {
     "name": "stdout",
     "output_type": "stream",
     "text": [
      "              precision    recall  f1-score   support\n",
      "\n",
      "           1       0.72      1.00      0.84      1235\n",
      "           2       0.00      0.00      0.00       178\n",
      "           3       0.00      0.00      0.00        83\n",
      "           4       0.00      0.00      0.00        57\n",
      "           5       0.00      0.00      0.00        48\n",
      "           6       0.00      0.00      0.00        28\n",
      "           7       0.00      0.00      0.00        21\n",
      "           8       0.00      0.00      0.00        24\n",
      "           9       0.00      0.00      0.00        24\n",
      "          10       0.00      0.00      0.00        24\n",
      "\n",
      "    accuracy                           0.72      1722\n",
      "   macro avg       0.07      0.10      0.08      1722\n",
      "weighted avg       0.51      0.72      0.60      1722\n",
      "\n"
     ]
    }
   ],
   "source": [
    "report = classification_report(y_test, classifier.predict(X_test),\n",
    "                               target_names=['1', '2', '3', '4', '5', '6', '7', '8', '9', '10'])\n",
    "print(report)"
   ]
  },
  {
   "cell_type": "markdown",
   "id": "8a5e92c8",
   "metadata": {},
   "source": [
    "We see that in this case the same problem arises - only the first class is described. It arises because the classes are not sbanasirovanny - the first will greatly exceed the rest in terms of the number of objects, so the classifier learns to explain it more effectively"
   ]
  },
  {
   "cell_type": "markdown",
   "id": "a9cab5ed",
   "metadata": {},
   "source": [
    "To solve this problem, we introduce an array of weights for each sample from the training set. Thus, we will balance the classes and make them equally significant for the classifier"
   ]
  },
  {
   "cell_type": "markdown",
   "id": "1111b1ea",
   "metadata": {},
   "source": [
    "## Array of weights"
   ]
  },
  {
   "cell_type": "code",
   "execution_count": 520,
   "id": "fd5cfdfb",
   "metadata": {},
   "outputs": [],
   "source": [
    "train_samples = np.array(y_train)\n",
    "classes_sizes = data2['fire_level'].value_counts()\n",
    "sample_weights = []\n",
    "for i in range(sum(y_train.value_counts())):\n",
    "    sample_weights.append(classes_sizes[1] / classes_sizes[train_samples[i]])"
   ]
  },
  {
   "cell_type": "markdown",
   "id": "f866054e",
   "metadata": {},
   "source": [
    "Проверим теперь работу классификаторов с массивом весов."
   ]
  },
  {
   "cell_type": "markdown",
   "id": "e1d7038a",
   "metadata": {},
   "source": [
    "### Let's check the classifiers with an array of weights"
   ]
  },
  {
   "cell_type": "code",
   "execution_count": 521,
   "id": "c80bf24d",
   "metadata": {},
   "outputs": [
    {
     "data": {
      "text/plain": [
       "LogisticRegression(multi_class='multinomial', random_state=2)"
      ]
     },
     "execution_count": 521,
     "metadata": {},
     "output_type": "execute_result"
    }
   ],
   "source": [
    "clf = LogisticRegression(random_state=2, solver='lbfgs', multi_class='multinomial')\n",
    "clf.fit(X_train, y_train, sample_weight=sample_weights)"
   ]
  },
  {
   "cell_type": "code",
   "execution_count": 523,
   "id": "e9411a3b",
   "metadata": {},
   "outputs": [
    {
     "name": "stdout",
     "output_type": "stream",
     "text": [
      "Logistic regression:\n",
      "               precision    recall  f1-score   support\n",
      "\n",
      "           1       0.89      0.29      0.44      1235\n",
      "           2       0.17      0.29      0.22       178\n",
      "           3       0.06      0.07      0.07        83\n",
      "           4       0.03      0.02      0.02        57\n",
      "           5       0.00      0.00      0.00        48\n",
      "           6       0.02      0.07      0.03        28\n",
      "           7       0.03      0.29      0.05        21\n",
      "           8       0.06      0.33      0.10        24\n",
      "           9       0.02      0.38      0.05        24\n",
      "          10       0.02      0.08      0.04        24\n",
      "\n",
      "    accuracy                           0.26      1722\n",
      "   macro avg       0.13      0.18      0.10      1722\n",
      "weighted avg       0.67      0.26      0.34      1722\n",
      "\n"
     ]
    }
   ],
   "source": [
    "report = classification_report(y_test, clf.predict(X_test), target_names=['1', '2', '3', '4', '5', '6', '7', '8', '9', '10'])\n",
    "print(\"Logistic regression:\\n\", report)"
   ]
  },
  {
   "cell_type": "markdown",
   "id": "cac220f7",
   "metadata": {},
   "source": [
    "Now we see that the classifier has worked out the prediction of almost all classes, except for one. However, the prediction accuracy is very small, it also dropped a lot for class 1. The precision metric for only two classes is more than 17%.\n",
    "However, the accuracy of the entire classifier is 26%, the classifier is more effective than random class selection (the probability of guessing one class out of 10 is 10%)"
   ]
  },
  {
   "cell_type": "markdown",
   "id": "60b49eef",
   "metadata": {},
   "source": [
    "### Decision Tree with Array of Weights"
   ]
  },
  {
   "cell_type": "code",
   "execution_count": 528,
   "id": "0e717b46",
   "metadata": {},
   "outputs": [
    {
     "name": "stdout",
     "output_type": "stream",
     "text": [
      "1: 0.21777003484320556\n",
      "2: 0.22125435540069685\n",
      "3: 0.1951219512195122\n",
      "4: 0.18641114982578397\n",
      "5: 0.21254355400696864\n",
      "6: 0.19279907084785133\n",
      "7: 0.20615563298490128\n",
      "8: 0.18641114982578397\n",
      "9: 0.15447154471544716\n",
      "10: 0.16840882694541232\n",
      "11: 0.17015098722415795\n",
      "12: 0.16666666666666666\n",
      "13: 0.17015098722415795\n",
      "14: 0.17015098722415795\n",
      "15: 0.17073170731707318\n",
      "16: 0.17073170731707318\n",
      "17: 0.17073170731707318\n",
      "18: 0.17073170731707318\n",
      "19: 0.17073170731707318\n",
      "20: 0.17073170731707318\n",
      "21: 0.17073170731707318\n",
      "22: 0.17073170731707318\n",
      "23: 0.17073170731707318\n",
      "24: 0.17073170731707318\n",
      "25: 0.17073170731707318\n",
      "26: 0.17073170731707318\n",
      "27: 0.17073170731707318\n",
      "28: 0.17073170731707318\n",
      "29: 0.17073170731707318\n"
     ]
    }
   ],
   "source": [
    "for i in range(1, 30):\n",
    "    T = DecisionTreeClassifier(random_state=241, max_depth = i)\n",
    "    T = T.fit(X_train, y_train, sample_weight=sample_weights)\n",
    "    print(str(i) + \": \" + str(T.score(X_test, y_test)))"
   ]
  },
  {
   "cell_type": "code",
   "execution_count": 529,
   "id": "f523bf69",
   "metadata": {},
   "outputs": [
    {
     "name": "stdout",
     "output_type": "stream",
     "text": [
      "Depth-optimized tree:\n",
      "               precision    recall  f1-score   support\n",
      "\n",
      "           1       0.91      0.26      0.40      1235\n",
      "           2       0.18      0.12      0.15       178\n",
      "           3       0.06      0.19      0.09        83\n",
      "           4       0.00      0.00      0.00        57\n",
      "           5       0.00      0.00      0.00        48\n",
      "           6       0.01      0.04      0.01        28\n",
      "           7       0.01      0.38      0.03        21\n",
      "           8       0.03      0.08      0.04        24\n",
      "           9       0.01      0.08      0.02        24\n",
      "          10       0.00      0.00      0.00        24\n",
      "\n",
      "    accuracy                           0.21      1722\n",
      "   macro avg       0.12      0.12      0.07      1722\n",
      "weighted avg       0.67      0.21      0.31      1722\n",
      "\n"
     ]
    }
   ],
   "source": [
    "Tree = DecisionTreeClassifier(random_state=241, max_depth=5)\n",
    "Tree = Tree.fit(X_train, y_train, sample_weight=sample_weights)\n",
    "report = classification_report(y_test, Tree.predict(X_test), target_names=['1', '2', '3', '4', '5', '6', '7', '8', '9', '10'])\n",
    "print(\"Depth-optimized tree:\\n\", report)"
   ]
  },
  {
   "cell_type": "markdown",
   "id": "191ab60d",
   "metadata": {},
   "source": [
    "### Random forest with array of weights"
   ]
  },
  {
   "cell_type": "code",
   "execution_count": 530,
   "id": "5052e3e8",
   "metadata": {},
   "outputs": [
    {
     "data": {
      "text/plain": [
       "GridSearchCV(cv=5, estimator=RandomForestClassifier(),\n",
       "             param_grid={'max_depth': [2, 5, 10, 15, 20],\n",
       "                         'n_estimators': [50, 100, 150],\n",
       "                         'random_state': [241]},\n",
       "             refit='f1', scoring=['accuracy', 'f1', 'precision', 'recall'])"
      ]
     },
     "execution_count": 530,
     "metadata": {},
     "output_type": "execute_result"
    }
   ],
   "source": [
    "param_grid = {\n",
    "    'n_estimators': [50, 100, 150],\n",
    "    'max_depth' : [2, 5, 10, 15, 20],\n",
    "    'random_state': [241],\n",
    "}\n",
    "scoring = ['accuracy', 'f1', 'precision', 'recall']\n",
    "\n",
    "RFC = GridSearchCV(estimator=RandomForestClassifier(), param_grid=param_grid, cv=5, scoring=scoring, refit='f1') \n",
    "RFC.fit(X_train, y_train, sample_weight=sample_weights)"
   ]
  },
  {
   "cell_type": "code",
   "execution_count": 531,
   "id": "c1a0c591",
   "metadata": {},
   "outputs": [
    {
     "name": "stdout",
     "output_type": "stream",
     "text": [
      "Best RFC:\n",
      "               precision    recall  f1-score   support\n",
      "\n",
      "           1       0.92      0.27      0.42      1235\n",
      "           2       0.16      0.39      0.22       178\n",
      "           3       0.00      0.00      0.00        83\n",
      "           4       0.00      0.00      0.00        57\n",
      "           5       0.00      0.00      0.00        48\n",
      "           6       0.04      0.25      0.06        28\n",
      "           7       0.01      0.24      0.03        21\n",
      "           8       0.08      0.25      0.12        24\n",
      "           9       0.02      0.12      0.03        24\n",
      "          10       0.02      0.04      0.03        24\n",
      "\n",
      "    accuracy                           0.25      1722\n",
      "   macro avg       0.12      0.16      0.09      1722\n",
      "weighted avg       0.68      0.25      0.33      1722\n",
      "\n"
     ]
    }
   ],
   "source": [
    "best_RFC = RFC.best_estimator_\n",
    "best_RFC.fit(X_train, y_train, sample_weight=sample_weights)\n",
    "\n",
    "report = classification_report(y_test, best_RFC.predict(X_test), target_names=['1', '2', '3', '4', '5', '6', '7', '8', '9', '10'])\n",
    "print(\"Best RFC:\\n\", report)"
   ]
  },
  {
   "cell_type": "markdown",
   "id": "328f0a94",
   "metadata": {},
   "source": [
    "The results of random forest and decision tree are similar to the result of logistic regression, only in these cases even fewer classes were predicted by the classifier. For 3 classes there is no prediction at all"
   ]
  },
  {
   "cell_type": "markdown",
   "id": "8dec73fe",
   "metadata": {},
   "source": [
    "We can conclude that splitting into many classes in a given dataframe is not effective, it is better to use linear regression to predict the number of fires"
   ]
  },
  {
   "cell_type": "markdown",
   "id": "e6a4a416",
   "metadata": {},
   "source": [
    "## Split into 2 classes"
   ]
  },
  {
   "cell_type": "markdown",
   "id": "7795520c",
   "metadata": {},
   "source": [
    "Let's try to increase the accuracy by reducing the number of classes. Let's divide the data into fire hazardous situations and not. The first category includes objects for which the number of fires is more than 250"
   ]
  },
  {
   "cell_type": "code",
   "execution_count": 8,
   "id": "33cad9a3",
   "metadata": {},
   "outputs": [],
   "source": [
    "columns4 = [\"year\", \"number\", \"IsWinter\", \"IsSpring\", \"IsSummer\", \"IsAutumn\",\n",
    "            \"IsNorth\", \"IsNorthWest\", \"IsCenterWest\", \"IsSouthWest\", \"IsSouth\"]\n",
    "data4 = data1.loc[:, data1.columns.isin(columns4)]"
   ]
  },
  {
   "cell_type": "code",
   "execution_count": 9,
   "id": "c75484ed",
   "metadata": {},
   "outputs": [],
   "source": [
    "data4['fire_level'] = data4['number']\n",
    "data4['fire_level'] = np.where(data4['fire_level'] <= 250 , 0, 1)\n",
    "data4 = data4.drop(columns = [\"number\"], axis = 1)"
   ]
  },
  {
   "cell_type": "code",
   "execution_count": 10,
   "id": "274dfe33",
   "metadata": {},
   "outputs": [],
   "source": [
    "# Train & test splits\n",
    "test = data4[\"fire_level\"]\n",
    "train = data4.drop(['fire_level'], axis=1) \n",
    "X_train, X_test, y_train, y_test = train_test_split(train, test, test_size = 0.3, random_state = 1)"
   ]
  },
  {
   "cell_type": "code",
   "execution_count": 76,
   "id": "641c38c2",
   "metadata": {},
   "outputs": [],
   "source": [
    "# Array of weights for the given sample\n",
    "train_samples = np.array(y_train)\n",
    "classes_sizes = data4['fire_level'].value_counts()\n",
    "sample_weights = []\n",
    "for i in range(sum(y_train.value_counts())):\n",
    "    sample_weights.append(classes_sizes[0] / classes_sizes[train_samples[i]])"
   ]
  },
  {
   "cell_type": "code",
   "execution_count": 77,
   "id": "5f60c48d",
   "metadata": {},
   "outputs": [
    {
     "name": "stdout",
     "output_type": "stream",
     "text": [
      "1: 0.3821138211382114\n",
      "2: 0.5545876887340302\n",
      "3: 0.5586527293844367\n",
      "4: 0.5952380952380952\n",
      "5: 0.5842044134727061\n",
      "6: 0.5766550522648084\n",
      "7: 0.5418118466898955\n",
      "8: 0.5720092915214866\n",
      "9: 0.5714285714285714\n",
      "10: 0.5830429732868757\n",
      "11: 0.5807200929152149\n",
      "12: 0.5813008130081301\n",
      "13: 0.5859465737514518\n",
      "14: 0.5905923344947736\n",
      "15: 0.5876887340301974\n",
      "16: 0.5923344947735192\n",
      "17: 0.5923344947735192\n",
      "18: 0.5923344947735192\n",
      "19: 0.5923344947735192\n",
      "20: 0.5923344947735192\n",
      "21: 0.5923344947735192\n",
      "22: 0.5923344947735192\n",
      "23: 0.5923344947735192\n",
      "24: 0.5923344947735192\n",
      "25: 0.5923344947735192\n",
      "26: 0.5923344947735192\n",
      "27: 0.5923344947735192\n",
      "28: 0.5923344947735192\n",
      "29: 0.5923344947735192\n"
     ]
    }
   ],
   "source": [
    "for i in range(1, 30):\n",
    "    T = DecisionTreeClassifier(random_state=241, max_depth = i)\n",
    "    T = T.fit(X_train, y_train, sample_weight=sample_weights)\n",
    "    print(str(i) + \": \" + str(T.score(X_test, y_test)))"
   ]
  },
  {
   "cell_type": "code",
   "execution_count": 69,
   "id": "d318f969",
   "metadata": {},
   "outputs": [],
   "source": [
    "Tree = DecisionTreeClassifier(random_state=241, max_depth=4)\n",
    "Tree = Tree.fit(X_train, y_train, sample_weight=sample_weights)"
   ]
  },
  {
   "cell_type": "code",
   "execution_count": 70,
   "id": "c074ac40",
   "metadata": {},
   "outputs": [
    {
     "name": "stdout",
     "output_type": "stream",
     "text": [
      "Depth-optimized tree:\n",
      "               precision    recall  f1-score   support\n",
      "\n",
      "           0       0.92      0.57      0.70      1456\n",
      "           1       0.24      0.73      0.36       266\n",
      "\n",
      "    accuracy                           0.60      1722\n",
      "   macro avg       0.58      0.65      0.53      1722\n",
      "weighted avg       0.81      0.60      0.65      1722\n",
      "\n"
     ]
    }
   ],
   "source": [
    "report = classification_report(y_test, Tree.predict(X_test), target_names=['0', '1'])\n",
    "print(\"Depth-optimized tree:\\n\", report)"
   ]
  },
  {
   "cell_type": "markdown",
   "id": "b76e93f1",
   "metadata": {},
   "source": [
    "Prediction accuracy for two classes is low - 60%. Specifically for class 0, data with less than 250 fires, the f1 metric value is 70%, which is almost equal to the linear regression value"
   ]
  },
  {
   "cell_type": "markdown",
   "id": "0a5a795f",
   "metadata": {},
   "source": [
    "Thus, we can conclude that it is better to use a linear model to predict the number of fires. If there is a task of conditional division into fire hazardous situations and not, then a classifier can be used, because it has a high value of the precision metric for non-fire objects - 92%, which means that it rarely marks objects of another class as non-flammable"
   ]
  }
 ],
 "metadata": {
  "kernelspec": {
   "display_name": "Python 3",
   "language": "python",
   "name": "python3"
  },
  "language_info": {
   "codemirror_mode": {
    "name": "ipython",
    "version": 3
   },
   "file_extension": ".py",
   "mimetype": "text/x-python",
   "name": "python",
   "nbconvert_exporter": "python",
   "pygments_lexer": "ipython3",
   "version": "3.8.8"
  }
 },
 "nbformat": 4,
 "nbformat_minor": 5
}
