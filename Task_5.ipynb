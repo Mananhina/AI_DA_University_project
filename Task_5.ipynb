{
 "cells": [
  {
   "cell_type": "markdown",
   "id": "fdd4e470",
   "metadata": {},
   "source": [
    "# Data on the number of fires in Brazil"
   ]
  },
  {
   "cell_type": "markdown",
   "id": "408e346a",
   "metadata": {},
   "source": [
    "## Analysis of a dataset containing information on the number of fires in various regions of Brazil from 1998 to 2017"
   ]
  },
  {
   "cell_type": "code",
   "execution_count": 1,
   "id": "1c2426e6",
   "metadata": {},
   "outputs": [],
   "source": [
    "import pandas as pd\n",
    "import numpy as np\n",
    "import seaborn as sns \n",
    "import matplotlib.pyplot as plt\n",
    "\n",
    "from sklearn.manifold import TSNE\n",
    "from sklearn.decomposition import PCA\n",
    "from sklearn.preprocessing import StandardScaler\n",
    "from sklearn import preprocessing\n",
    "from sklearn.tree import DecisionTreeClassifier\n",
    "from sklearn.model_selection import train_test_split\n",
    "from sklearn.metrics import classification_report"
   ]
  },
  {
   "cell_type": "markdown",
   "id": "0754743a",
   "metadata": {},
   "source": [
    "### Description of features"
   ]
  },
  {
   "cell_type": "code",
   "execution_count": 102,
   "id": "063d93c7",
   "metadata": {},
   "outputs": [
    {
     "name": "stdout",
     "output_type": "stream",
     "text": [
      "<class 'pandas.core.frame.DataFrame'>\n",
      "RangeIndex: 6454 entries, 0 to 6453\n",
      "Data columns (total 5 columns):\n",
      " #   Column  Non-Null Count  Dtype  \n",
      "---  ------  --------------  -----  \n",
      " 0   year    6454 non-null   int64  \n",
      " 1   state   6454 non-null   object \n",
      " 2   month   6454 non-null   object \n",
      " 3   number  6454 non-null   float64\n",
      " 4   date    6454 non-null   object \n",
      "dtypes: float64(1), int64(1), object(3)\n",
      "memory usage: 252.2+ KB\n"
     ]
    }
   ],
   "source": [
    "# Read the data\n",
    "data_raw = pd.read_csv('amazon.csv', encoding='latin1')\n",
    "data_raw.info()"
   ]
  },
  {
   "cell_type": "markdown",
   "id": "7d471589",
   "metadata": {},
   "source": [
    "The dataset contains 6454 objects and 5 features\n",
    "- year - Year of fires\n",
    "- state - The state that had the fires\n",
    "- month - Fire month\n",
    "- number - Number of registered fires for the specified month\n",
    "- date - Date of entry of fire data"
   ]
  },
  {
   "cell_type": "code",
   "execution_count": 185,
   "id": "550bf118",
   "metadata": {},
   "outputs": [
    {
     "data": {
      "text/html": [
       "<div>\n",
       "<style scoped>\n",
       "    .dataframe tbody tr th:only-of-type {\n",
       "        vertical-align: middle;\n",
       "    }\n",
       "\n",
       "    .dataframe tbody tr th {\n",
       "        vertical-align: top;\n",
       "    }\n",
       "\n",
       "    .dataframe thead th {\n",
       "        text-align: right;\n",
       "    }\n",
       "</style>\n",
       "<table border=\"1\" class=\"dataframe\">\n",
       "  <thead>\n",
       "    <tr style=\"text-align: right;\">\n",
       "      <th></th>\n",
       "      <th>year</th>\n",
       "      <th>state</th>\n",
       "      <th>month</th>\n",
       "      <th>number</th>\n",
       "      <th>date</th>\n",
       "    </tr>\n",
       "  </thead>\n",
       "  <tbody>\n",
       "    <tr>\n",
       "      <th>0</th>\n",
       "      <td>1998</td>\n",
       "      <td>Acre</td>\n",
       "      <td>Janeiro</td>\n",
       "      <td>0.0</td>\n",
       "      <td>1998-01-01</td>\n",
       "    </tr>\n",
       "    <tr>\n",
       "      <th>1</th>\n",
       "      <td>1999</td>\n",
       "      <td>Acre</td>\n",
       "      <td>Janeiro</td>\n",
       "      <td>0.0</td>\n",
       "      <td>1999-01-01</td>\n",
       "    </tr>\n",
       "    <tr>\n",
       "      <th>2</th>\n",
       "      <td>2000</td>\n",
       "      <td>Acre</td>\n",
       "      <td>Janeiro</td>\n",
       "      <td>0.0</td>\n",
       "      <td>2000-01-01</td>\n",
       "    </tr>\n",
       "    <tr>\n",
       "      <th>3</th>\n",
       "      <td>2001</td>\n",
       "      <td>Acre</td>\n",
       "      <td>Janeiro</td>\n",
       "      <td>0.0</td>\n",
       "      <td>2001-01-01</td>\n",
       "    </tr>\n",
       "    <tr>\n",
       "      <th>4</th>\n",
       "      <td>2002</td>\n",
       "      <td>Acre</td>\n",
       "      <td>Janeiro</td>\n",
       "      <td>0.0</td>\n",
       "      <td>2002-01-01</td>\n",
       "    </tr>\n",
       "  </tbody>\n",
       "</table>\n",
       "</div>"
      ],
      "text/plain": [
       "   year state    month  number        date\n",
       "0  1998  Acre  Janeiro     0.0  1998-01-01\n",
       "1  1999  Acre  Janeiro     0.0  1999-01-01\n",
       "2  2000  Acre  Janeiro     0.0  2000-01-01\n",
       "3  2001  Acre  Janeiro     0.0  2001-01-01\n",
       "4  2002  Acre  Janeiro     0.0  2002-01-01"
      ]
     },
     "execution_count": 185,
     "metadata": {},
     "output_type": "execute_result"
    }
   ],
   "source": [
    "data_raw.head()"
   ]
  },
  {
   "cell_type": "markdown",
   "id": "d29ad048",
   "metadata": {},
   "source": [
    "Categorical features include the year and month of fires, as well as the state in which they were registered"
   ]
  },
  {
   "cell_type": "markdown",
   "id": "48dd53bc",
   "metadata": {},
   "source": [
    "There is a numerical sign in the dataset - this is the number of fires for a given period of time"
   ]
  },
  {
   "cell_type": "markdown",
   "id": "f4921bec",
   "metadata": {},
   "source": [
    "There are no binary features in the dataset"
   ]
  },
  {
   "cell_type": "markdown",
   "id": "be413468",
   "metadata": {},
   "source": [
    "Let's look at the number of unique values in categorical columns"
   ]
  },
  {
   "cell_type": "code",
   "execution_count": 186,
   "id": "d136f3d9",
   "metadata": {},
   "outputs": [
    {
     "data": {
      "text/plain": [
       "state    23\n",
       "month    12\n",
       "date     20\n",
       "dtype: int64"
      ]
     },
     "execution_count": 186,
     "metadata": {},
     "output_type": "execute_result"
    }
   ],
   "source": [
    "data_raw[['state', \"month\", \"date\"]].nunique()"
   ]
  },
  {
   "cell_type": "code",
   "execution_count": 187,
   "id": "5afff618",
   "metadata": {},
   "outputs": [
    {
     "data": {
      "text/plain": [
       "array(['Acre', 'Alagoas', 'Amapa', 'Amazonas', 'Bahia', 'Ceara',\n",
       "       'Distrito Federal', 'Espirito Santo', 'Goias', 'Maranhao',\n",
       "       'Mato Grosso', 'Minas Gerais', 'Pará', 'Paraiba', 'Pernambuco',\n",
       "       'Piau', 'Rio', 'Rondonia', 'Roraima', 'Santa Catarina',\n",
       "       'Sao Paulo', 'Sergipe', 'Tocantins'], dtype=object)"
      ]
     },
     "execution_count": 187,
     "metadata": {},
     "output_type": "execute_result"
    }
   ],
   "source": [
    "data_raw[\"state\"].unique()"
   ]
  },
  {
   "cell_type": "markdown",
   "id": "d0e8d557",
   "metadata": {},
   "source": [
    "Column \"state\" - column with the maximum number of unique values - 23"
   ]
  },
  {
   "cell_type": "markdown",
   "id": "313dcd9b",
   "metadata": {},
   "source": [
    "From the info table we see that there are no gaps in the dataset, for each object all features are defined"
   ]
  },
  {
   "cell_type": "code",
   "execution_count": 13,
   "id": "a45d5a86",
   "metadata": {},
   "outputs": [
    {
     "data": {
      "text/html": [
       "<div>\n",
       "<style scoped>\n",
       "    .dataframe tbody tr th:only-of-type {\n",
       "        vertical-align: middle;\n",
       "    }\n",
       "\n",
       "    .dataframe tbody tr th {\n",
       "        vertical-align: top;\n",
       "    }\n",
       "\n",
       "    .dataframe thead th {\n",
       "        text-align: right;\n",
       "    }\n",
       "</style>\n",
       "<table border=\"1\" class=\"dataframe\">\n",
       "  <thead>\n",
       "    <tr style=\"text-align: right;\">\n",
       "      <th></th>\n",
       "      <th>year</th>\n",
       "      <th>number</th>\n",
       "    </tr>\n",
       "  </thead>\n",
       "  <tbody>\n",
       "    <tr>\n",
       "      <th>count</th>\n",
       "      <td>6454.000000</td>\n",
       "      <td>6454.000000</td>\n",
       "    </tr>\n",
       "    <tr>\n",
       "      <th>mean</th>\n",
       "      <td>2007.461729</td>\n",
       "      <td>108.293163</td>\n",
       "    </tr>\n",
       "    <tr>\n",
       "      <th>std</th>\n",
       "      <td>5.746654</td>\n",
       "      <td>190.812242</td>\n",
       "    </tr>\n",
       "    <tr>\n",
       "      <th>min</th>\n",
       "      <td>1998.000000</td>\n",
       "      <td>0.000000</td>\n",
       "    </tr>\n",
       "    <tr>\n",
       "      <th>25%</th>\n",
       "      <td>2002.000000</td>\n",
       "      <td>3.000000</td>\n",
       "    </tr>\n",
       "    <tr>\n",
       "      <th>50%</th>\n",
       "      <td>2007.000000</td>\n",
       "      <td>24.000000</td>\n",
       "    </tr>\n",
       "    <tr>\n",
       "      <th>75%</th>\n",
       "      <td>2012.000000</td>\n",
       "      <td>113.000000</td>\n",
       "    </tr>\n",
       "    <tr>\n",
       "      <th>max</th>\n",
       "      <td>2017.000000</td>\n",
       "      <td>998.000000</td>\n",
       "    </tr>\n",
       "  </tbody>\n",
       "</table>\n",
       "</div>"
      ],
      "text/plain": [
       "              year       number\n",
       "count  6454.000000  6454.000000\n",
       "mean   2007.461729   108.293163\n",
       "std       5.746654   190.812242\n",
       "min    1998.000000     0.000000\n",
       "25%    2002.000000     3.000000\n",
       "50%    2007.000000    24.000000\n",
       "75%    2012.000000   113.000000\n",
       "max    2017.000000   998.000000"
      ]
     },
     "execution_count": 13,
     "metadata": {},
     "output_type": "execute_result"
    }
   ],
   "source": [
    "data_raw.describe()"
   ]
  },
  {
   "cell_type": "markdown",
   "id": "0ee0f7df",
   "metadata": {},
   "source": [
    "### Anomalies"
   ]
  },
  {
   "cell_type": "markdown",
   "id": "df7abf41",
   "metadata": {},
   "source": [
    "Let's look at the distribution of the number of fires by years and months"
   ]
  },
  {
   "cell_type": "code",
   "execution_count": 103,
   "id": "18bf3c95",
   "metadata": {},
   "outputs": [],
   "source": [
    "# In the new dataframe, we will take all the columns, except for \"date\", because it is not informative\n",
    "columns = [\"year\", \"state\", \"month\", \"number\"]\n",
    "data = data_raw.loc[:, data_raw.columns.isin(columns)]"
   ]
  },
  {
   "cell_type": "code",
   "execution_count": 104,
   "id": "0ca8f7ac",
   "metadata": {},
   "outputs": [
    {
     "data": {
      "text/plain": [
       "Text(0.5, 0, 'number')"
      ]
     },
     "execution_count": 104,
     "metadata": {},
     "output_type": "execute_result"
    },
    {
     "data": {
      "image/png": "[encoded data removed]",
      "text/plain": [
       "<Figure size 864x576 with 1 Axes>"
      ]
     },
     "metadata": {
      "needs_background": "light"
     },
     "output_type": "display_data"
    }
   ],
   "source": [
    "plt.figure(figsize=(12,8))\n",
    "plt.scatter(data[\"number\"], data[\"year\"], linewidth=0.8)\n",
    "\n",
    "plt.ylabel('year')\n",
    "plt.xlabel('number')"
   ]
  },
  {
   "cell_type": "markdown",
   "id": "e543e404",
   "metadata": {},
   "source": [
    "The anomalies or outlier in our case could be too many fires, but we can notice that they are distributed over the years in a rather similar way: a larger number of fires occurs less frequently each year. There are no single values that are very different from others in this dataset"
   ]
  },
  {
   "cell_type": "code",
   "execution_count": 105,
   "id": "6852abce",
   "metadata": {},
   "outputs": [
    {
     "data": {
      "text/plain": [
       "Text(0.5, 0, 'number')"
      ]
     },
     "execution_count": 105,
     "metadata": {},
     "output_type": "execute_result"
    },
    {
     "data": {
      "image/png": "[encoded data removed]",
      "text/plain": [
       "<Figure size 864x576 with 1 Axes>"
      ]
     },
     "metadata": {
      "needs_background": "light"
     },
     "output_type": "display_data"
    }
   ],
   "source": [
    "months_map = {'Janeiro' : 1, 'Fevereiro' : 2, 'Março' : 3, 'Abril' : 4, 'Maio' : 5, 'Junho' : 6,\n",
    "             'Julho' : 7, 'Agosto' : 8, 'Setembro' : 9, 'Outubro' : 10, 'Novembro' : 11, 'Dezembro' : 12}\n",
    "\n",
    "data['month_number'] = data['month']\n",
    "for mon in months_map.keys():\n",
    "    data['month_number'] = np.where(data['month_number'] == mon, int(months_map[mon]), data['month_number'])\n",
    "\n",
    "plt.figure(figsize=(12,8))\n",
    "plt.scatter(data[\"number\"], data[\"month_number\"], linewidth=0.8)\n",
    "\n",
    "plt.ylabel('month_number')\n",
    "plt.xlabel('number')"
   ]
  },
  {
   "cell_type": "code",
   "execution_count": null,
   "id": "1b5e38aa",
   "metadata": {},
   "outputs": [],
   "source": [
    "s_map = {'Janeiro' : 1, 'Fevereiro' : 2, 'Março' : 3, 'Abril' : 4, 'Maio' : 5, 'Junho' : 6,\n",
    "             'Julho' : 7, 'Agosto' : 8, 'Setembro' : 9, 'Outubro' : 10, 'Novembro' : 11, 'Dezembro' : 12}\n",
    "\n",
    "data['month_number'] = data['month']\n",
    "for s in s_map.keys():\n",
    "    data['month_number'] = np.where(data['month_number'] == s, int(months_map[mon]), data['month_number'])"
   ]
  },
  {
   "cell_type": "code",
   "execution_count": 123,
   "id": "0fc539ee",
   "metadata": {},
   "outputs": [
    {
     "data": {
      "text/html": [
       "<div>\n",
       "<style scoped>\n",
       "    .dataframe tbody tr th:only-of-type {\n",
       "        vertical-align: middle;\n",
       "    }\n",
       "\n",
       "    .dataframe tbody tr th {\n",
       "        vertical-align: top;\n",
       "    }\n",
       "\n",
       "    .dataframe thead th {\n",
       "        text-align: right;\n",
       "    }\n",
       "</style>\n",
       "<table border=\"1\" class=\"dataframe\">\n",
       "  <thead>\n",
       "    <tr style=\"text-align: right;\">\n",
       "      <th>IsSouthWest</th>\n",
       "      <th>0</th>\n",
       "      <th>1</th>\n",
       "    </tr>\n",
       "  </thead>\n",
       "  <tbody>\n",
       "    <tr>\n",
       "      <th>number</th>\n",
       "      <td>603434</td>\n",
       "      <td>95117</td>\n",
       "    </tr>\n",
       "  </tbody>\n",
       "</table>\n",
       "</div>"
      ],
      "text/plain": [
       "IsSouthWest       0      1\n",
       "number       603434  95117"
      ]
     },
     "execution_count": 123,
     "metadata": {},
     "output_type": "execute_result"
    }
   ],
   "source": [
    "pd.pivot_table(data1, columns = 'IsSouthWest', values = 'number', aggfunc = sum)[0:10]"
   ]
  },
  {
   "cell_type": "code",
   "execution_count": 94,
   "id": "dee0694e",
   "metadata": {},
   "outputs": [
    {
     "data": {
      "text/plain": [
       "0            Acre\n",
       "1            Acre\n",
       "2            Acre\n",
       "3            Acre\n",
       "4            Acre\n",
       "          ...    \n",
       "6449    Tocantins\n",
       "6450    Tocantins\n",
       "6451    Tocantins\n",
       "6452    Tocantins\n",
       "6453    Tocantins\n",
       "Name: state, Length: 6454, dtype: object"
      ]
     },
     "execution_count": 94,
     "metadata": {},
     "output_type": "execute_result"
    }
   ],
   "source": [
    "data[\"state\"]"
   ]
  },
  {
   "cell_type": "markdown",
   "id": "f941d1ef",
   "metadata": {},
   "source": [
    "In the distribution by months, we can also notice that there are no outliers. For the months of January to May, there are some values that stand apart, but they do not stand out from the overall picture"
   ]
  },
  {
   "cell_type": "markdown",
   "id": "b6b5e86c",
   "metadata": {},
   "source": [
    "### Data preparation"
   ]
  },
  {
   "cell_type": "markdown",
   "id": "ec6f287c",
   "metadata": {},
   "source": [
    "Let's make a new dataframe, in which we will take the parameters \"year\", \"number\", \"month number\", \"state\""
   ]
  },
  {
   "cell_type": "code",
   "execution_count": 106,
   "id": "feef5df0",
   "metadata": {},
   "outputs": [
    {
     "data": {
      "text/html": [
       "<div>\n",
       "<style scoped>\n",
       "    .dataframe tbody tr th:only-of-type {\n",
       "        vertical-align: middle;\n",
       "    }\n",
       "\n",
       "    .dataframe tbody tr th {\n",
       "        vertical-align: top;\n",
       "    }\n",
       "\n",
       "    .dataframe thead th {\n",
       "        text-align: right;\n",
       "    }\n",
       "</style>\n",
       "<table border=\"1\" class=\"dataframe\">\n",
       "  <thead>\n",
       "    <tr style=\"text-align: right;\">\n",
       "      <th></th>\n",
       "      <th>year</th>\n",
       "      <th>state</th>\n",
       "      <th>number</th>\n",
       "      <th>month_number</th>\n",
       "    </tr>\n",
       "  </thead>\n",
       "  <tbody>\n",
       "    <tr>\n",
       "      <th>0</th>\n",
       "      <td>1998</td>\n",
       "      <td>Acre</td>\n",
       "      <td>0</td>\n",
       "      <td>1</td>\n",
       "    </tr>\n",
       "    <tr>\n",
       "      <th>1</th>\n",
       "      <td>1999</td>\n",
       "      <td>Acre</td>\n",
       "      <td>0</td>\n",
       "      <td>1</td>\n",
       "    </tr>\n",
       "    <tr>\n",
       "      <th>2</th>\n",
       "      <td>2000</td>\n",
       "      <td>Acre</td>\n",
       "      <td>0</td>\n",
       "      <td>1</td>\n",
       "    </tr>\n",
       "    <tr>\n",
       "      <th>3</th>\n",
       "      <td>2001</td>\n",
       "      <td>Acre</td>\n",
       "      <td>0</td>\n",
       "      <td>1</td>\n",
       "    </tr>\n",
       "    <tr>\n",
       "      <th>4</th>\n",
       "      <td>2002</td>\n",
       "      <td>Acre</td>\n",
       "      <td>0</td>\n",
       "      <td>1</td>\n",
       "    </tr>\n",
       "  </tbody>\n",
       "</table>\n",
       "</div>"
      ],
      "text/plain": [
       "   year state  number month_number\n",
       "0  1998  Acre       0            1\n",
       "1  1999  Acre       0            1\n",
       "2  2000  Acre       0            1\n",
       "3  2001  Acre       0            1\n",
       "4  2002  Acre       0            1"
      ]
     },
     "execution_count": 106,
     "metadata": {},
     "output_type": "execute_result"
    }
   ],
   "source": [
    "data[\"number\"] = data[\"number\"].apply(int)\n",
    "columns1 = [\"year\", \"number\", \"month_number\", \"state\"]\n",
    "data1 = data.loc[:, data.columns.isin(columns1)]\n",
    "data1.head()"
   ]
  },
  {
   "cell_type": "markdown",
   "id": "a8aa4665",
   "metadata": {},
   "source": [
    "Let's create dummy variables for the state and month columns"
   ]
  },
  {
   "cell_type": "markdown",
   "id": "631a4b4a",
   "metadata": {},
   "source": [
    "Let's create four variables responsible for 4 seasons"
   ]
  },
  {
   "cell_type": "code",
   "execution_count": 107,
   "id": "b60f54b8",
   "metadata": {},
   "outputs": [],
   "source": [
    "data1['IsWinter'] = np.where(data1['month_number'] <= 2, 1, 0)\n",
    "data1['IsWinter'] = np.where(data1['month_number'] == 12, 1, data1['IsWinter'])\n",
    "\n",
    "data1['IsSpring'] = np.where(data1['month_number'] <= 5, 1, 0)\n",
    "data1['IsSpring'] = np.where(data1['month_number'] <= 2, 0, data1['IsSpring'])\n",
    "\n",
    "data1['IsSummer'] = np.where(data1['month_number'] <= 8, 1, 0)\n",
    "data1['IsSummer'] = np.where(data1['month_number'] <= 5, 0, data1['IsSummer'])\n",
    "\n",
    "data1['IsAutumn'] = np.where(data1['month_number'] >= 9, 1, 0)\n",
    "data1['IsAutumn'] = np.where(data1['month_number'] == 12, 0, data1['IsAutumn'])"
   ]
  },
  {
   "cell_type": "markdown",
   "id": "2bc633fc",
   "metadata": {},
   "source": [
    "Because there are 23 states in dataframe, then creating dummy variables for each of them will litter the data. Let's create 5 dummy variables according to administrative division"
   ]
  },
  {
   "cell_type": "code",
   "execution_count": 108,
   "id": "03054c32",
   "metadata": {},
   "outputs": [],
   "source": [
    "North_States = ['Acre', 'Amapa', 'Amazonas', 'Pará', 'Rondonia', 'Roraima']\n",
    "N_S_map = {state : 1 for state in North_States}\n",
    "\n",
    "data1['IsNorth'] = [0] * 6454\n",
    "for state in N_S_map.keys():\n",
    "    data1['IsNorth'] =  np.where(data1['state'] == state, N_S_map[state], data1['IsNorth'])\n",
    "    "
   ]
  },
  {
   "cell_type": "code",
   "execution_count": 109,
   "id": "0e532ad6",
   "metadata": {},
   "outputs": [],
   "source": [
    "North_West_States = ['Alagoas', 'Bahia', 'Ceara', 'Maranhao',\n",
    "               'Paraiba', 'Pernambuco', 'Piau',\n",
    "               'Sergipe', 'Tocantins']\n",
    "N_W_S_map = {state : 1 for state in North_West_States}\n",
    "\n",
    "data1['IsNorthWest'] = [0] * 6454\n",
    "for state in N_W_S_map.keys():\n",
    "    data1['IsNorthWest'] =  np.where(data1['state'] == state, N_W_S_map[state], data1['IsNorthWest'])"
   ]
  },
  {
   "cell_type": "code",
   "execution_count": 110,
   "id": "44ce61d9",
   "metadata": {},
   "outputs": [],
   "source": [
    "Center_West_States = ['Distrito Federal', 'Goias','Mato Grosso']\n",
    "C_W_map = {state : 1 for state in Center_West_States}\n",
    "\n",
    "data1['IsCenterWest'] = [0] * 6454\n",
    "for state in C_W_map.keys():\n",
    "    data1['IsCenterWest'] =  np.where(data1['state'] == state, C_W_map[state], data1['IsCenterWest'])"
   ]
  },
  {
   "cell_type": "code",
   "execution_count": 111,
   "id": "16da12dd",
   "metadata": {},
   "outputs": [],
   "source": [
    "South_West_States = ['Espirito Santo', 'Minas Gerais', 'Sao Paulo']\n",
    "S_W_map = {state : 1 for state in South_West_States}\n",
    "\n",
    "data1['IsSouthWest'] = [0] * 6454\n",
    "for state in S_W_map.keys():\n",
    "    data1['IsSouthWest'] =  np.where(data1['state'] == state, S_W_map[state], data1['IsSouthWest'])"
   ]
  },
  {
   "cell_type": "code",
   "execution_count": 112,
   "id": "b5f538bd",
   "metadata": {},
   "outputs": [],
   "source": [
    "data1['IsSouth'] = [0] * 6454\n",
    "data1['IsSouth'] =  np.where(data1['state'] == 'Santa Catarina', 1, data1['IsSouth'])"
   ]
  },
  {
   "cell_type": "code",
   "execution_count": 12,
   "id": "989750e7",
   "metadata": {},
   "outputs": [
    {
     "data": {
      "text/html": [
       "<div>\n",
       "<style scoped>\n",
       "    .dataframe tbody tr th:only-of-type {\n",
       "        vertical-align: middle;\n",
       "    }\n",
       "\n",
       "    .dataframe tbody tr th {\n",
       "        vertical-align: top;\n",
       "    }\n",
       "\n",
       "    .dataframe thead th {\n",
       "        text-align: right;\n",
       "    }\n",
       "</style>\n",
       "<table border=\"1\" class=\"dataframe\">\n",
       "  <thead>\n",
       "    <tr style=\"text-align: right;\">\n",
       "      <th></th>\n",
       "      <th>year</th>\n",
       "      <th>number</th>\n",
       "      <th>IsWinter</th>\n",
       "      <th>IsSpring</th>\n",
       "      <th>IsSummer</th>\n",
       "      <th>IsAutumn</th>\n",
       "      <th>IsNorth</th>\n",
       "      <th>IsNorthWest</th>\n",
       "      <th>IsCenterWest</th>\n",
       "      <th>IsSouthWest</th>\n",
       "      <th>IsSouth</th>\n",
       "    </tr>\n",
       "  </thead>\n",
       "  <tbody>\n",
       "    <tr>\n",
       "      <th>0</th>\n",
       "      <td>1998</td>\n",
       "      <td>0</td>\n",
       "      <td>1</td>\n",
       "      <td>0</td>\n",
       "      <td>0</td>\n",
       "      <td>0</td>\n",
       "      <td>1</td>\n",
       "      <td>0</td>\n",
       "      <td>0</td>\n",
       "      <td>0</td>\n",
       "      <td>0</td>\n",
       "    </tr>\n",
       "    <tr>\n",
       "      <th>1</th>\n",
       "      <td>1999</td>\n",
       "      <td>0</td>\n",
       "      <td>1</td>\n",
       "      <td>0</td>\n",
       "      <td>0</td>\n",
       "      <td>0</td>\n",
       "      <td>1</td>\n",
       "      <td>0</td>\n",
       "      <td>0</td>\n",
       "      <td>0</td>\n",
       "      <td>0</td>\n",
       "    </tr>\n",
       "    <tr>\n",
       "      <th>2</th>\n",
       "      <td>2000</td>\n",
       "      <td>0</td>\n",
       "      <td>1</td>\n",
       "      <td>0</td>\n",
       "      <td>0</td>\n",
       "      <td>0</td>\n",
       "      <td>1</td>\n",
       "      <td>0</td>\n",
       "      <td>0</td>\n",
       "      <td>0</td>\n",
       "      <td>0</td>\n",
       "    </tr>\n",
       "    <tr>\n",
       "      <th>3</th>\n",
       "      <td>2001</td>\n",
       "      <td>0</td>\n",
       "      <td>1</td>\n",
       "      <td>0</td>\n",
       "      <td>0</td>\n",
       "      <td>0</td>\n",
       "      <td>1</td>\n",
       "      <td>0</td>\n",
       "      <td>0</td>\n",
       "      <td>0</td>\n",
       "      <td>0</td>\n",
       "    </tr>\n",
       "    <tr>\n",
       "      <th>4</th>\n",
       "      <td>2002</td>\n",
       "      <td>0</td>\n",
       "      <td>1</td>\n",
       "      <td>0</td>\n",
       "      <td>0</td>\n",
       "      <td>0</td>\n",
       "      <td>1</td>\n",
       "      <td>0</td>\n",
       "      <td>0</td>\n",
       "      <td>0</td>\n",
       "      <td>0</td>\n",
       "    </tr>\n",
       "    <tr>\n",
       "      <th>...</th>\n",
       "      <td>...</td>\n",
       "      <td>...</td>\n",
       "      <td>...</td>\n",
       "      <td>...</td>\n",
       "      <td>...</td>\n",
       "      <td>...</td>\n",
       "      <td>...</td>\n",
       "      <td>...</td>\n",
       "      <td>...</td>\n",
       "      <td>...</td>\n",
       "      <td>...</td>\n",
       "    </tr>\n",
       "    <tr>\n",
       "      <th>6449</th>\n",
       "      <td>2012</td>\n",
       "      <td>128</td>\n",
       "      <td>1</td>\n",
       "      <td>0</td>\n",
       "      <td>0</td>\n",
       "      <td>0</td>\n",
       "      <td>0</td>\n",
       "      <td>1</td>\n",
       "      <td>0</td>\n",
       "      <td>0</td>\n",
       "      <td>0</td>\n",
       "    </tr>\n",
       "    <tr>\n",
       "      <th>6450</th>\n",
       "      <td>2013</td>\n",
       "      <td>85</td>\n",
       "      <td>1</td>\n",
       "      <td>0</td>\n",
       "      <td>0</td>\n",
       "      <td>0</td>\n",
       "      <td>0</td>\n",
       "      <td>1</td>\n",
       "      <td>0</td>\n",
       "      <td>0</td>\n",
       "      <td>0</td>\n",
       "    </tr>\n",
       "    <tr>\n",
       "      <th>6451</th>\n",
       "      <td>2014</td>\n",
       "      <td>223</td>\n",
       "      <td>1</td>\n",
       "      <td>0</td>\n",
       "      <td>0</td>\n",
       "      <td>0</td>\n",
       "      <td>0</td>\n",
       "      <td>1</td>\n",
       "      <td>0</td>\n",
       "      <td>0</td>\n",
       "      <td>0</td>\n",
       "    </tr>\n",
       "    <tr>\n",
       "      <th>6452</th>\n",
       "      <td>2015</td>\n",
       "      <td>373</td>\n",
       "      <td>1</td>\n",
       "      <td>0</td>\n",
       "      <td>0</td>\n",
       "      <td>0</td>\n",
       "      <td>0</td>\n",
       "      <td>1</td>\n",
       "      <td>0</td>\n",
       "      <td>0</td>\n",
       "      <td>0</td>\n",
       "    </tr>\n",
       "    <tr>\n",
       "      <th>6453</th>\n",
       "      <td>2016</td>\n",
       "      <td>119</td>\n",
       "      <td>1</td>\n",
       "      <td>0</td>\n",
       "      <td>0</td>\n",
       "      <td>0</td>\n",
       "      <td>0</td>\n",
       "      <td>1</td>\n",
       "      <td>0</td>\n",
       "      <td>0</td>\n",
       "      <td>0</td>\n",
       "    </tr>\n",
       "  </tbody>\n",
       "</table>\n",
       "<p>6454 rows × 11 columns</p>\n",
       "</div>"
      ],
      "text/plain": [
       "      year  number  IsWinter  IsSpring  IsSummer  IsAutumn  IsNorth  \\\n",
       "0     1998       0         1         0         0         0        1   \n",
       "1     1999       0         1         0         0         0        1   \n",
       "2     2000       0         1         0         0         0        1   \n",
       "3     2001       0         1         0         0         0        1   \n",
       "4     2002       0         1         0         0         0        1   \n",
       "...    ...     ...       ...       ...       ...       ...      ...   \n",
       "6449  2012     128         1         0         0         0        0   \n",
       "6450  2013      85         1         0         0         0        0   \n",
       "6451  2014     223         1         0         0         0        0   \n",
       "6452  2015     373         1         0         0         0        0   \n",
       "6453  2016     119         1         0         0         0        0   \n",
       "\n",
       "      IsNorthWest  IsCenterWest  IsSouthWest  IsSouth  \n",
       "0               0             0            0        0  \n",
       "1               0             0            0        0  \n",
       "2               0             0            0        0  \n",
       "3               0             0            0        0  \n",
       "4               0             0            0        0  \n",
       "...           ...           ...          ...      ...  \n",
       "6449            1             0            0        0  \n",
       "6450            1             0            0        0  \n",
       "6451            1             0            0        0  \n",
       "6452            1             0            0        0  \n",
       "6453            1             0            0        0  \n",
       "\n",
       "[6454 rows x 11 columns]"
      ]
     },
     "execution_count": 12,
     "metadata": {},
     "output_type": "execute_result"
    }
   ],
   "source": [
    "data1 = data1.drop(columns=['month_number', \"state\"], axis = 1)\n",
    "data1"
   ]
  },
  {
   "cell_type": "code",
   "execution_count": 202,
   "id": "2560248e",
   "metadata": {},
   "outputs": [
    {
     "data": {
      "image/png": "[encoded data removed]",
      "text/plain": [
       "<Figure size 960x800 with 2 Axes>"
      ]
     },
     "metadata": {
      "needs_background": "light"
     },
     "output_type": "display_data"
    }
   ],
   "source": [
    "plt.figure(figsize=(12,10), dpi= 80)\n",
    "sns.heatmap(data1.corr(), xticklabels=data1.corr().columns, yticklabels=data1.corr().columns, cmap='RdYlGn', center=0, annot=True)\n",
    "\n",
    "plt.xticks(fontsize=12)\n",
    "plt.yticks(fontsize=12)\n",
    "plt.show()"
   ]
  },
  {
   "cell_type": "markdown",
   "id": "da6ba597",
   "metadata": {},
   "source": [
    "From the table we see that there is a slight dependence of the number of fires on the year, month and state. Moreover, the dependence is stronger for the variables responsible for the season: spring, summer and autumn. And also for the variables responsible for the counties CenterWest and SouthWest"
   ]
  },
  {
   "cell_type": "markdown",
   "id": "409dc932",
   "metadata": {},
   "source": [
    "### Train & test"
   ]
  },
  {
   "cell_type": "markdown",
   "id": "0b7d784d",
   "metadata": {},
   "source": [
    "It is most rational in this dataset to consider the number of fires in the specified period as the target feature - 'number'. Because only this parameter is the most informative for us"
   ]
  },
  {
   "cell_type": "code",
   "execution_count": 13,
   "id": "c2ef7818",
   "metadata": {},
   "outputs": [
    {
     "name": "stdout",
     "output_type": "stream",
     "text": [
      "4517 1937\n"
     ]
    }
   ],
   "source": [
    "test = data1[\"number\"]\n",
    "train = data1.drop(['number'], axis=1) \n",
    "\n",
    "X_train, X_test, y_train, y_test = train_test_split(train, test, test_size = 0.3, random_state = 42)\n",
    "\n",
    "sc = StandardScaler()\n",
    "X_train = sc.fit_transform(X_train)\n",
    "X_test = sc.transform(X_test)\n",
    "\n",
    "N_train, _ = X_train.shape \n",
    "N_test,  _ = X_test.shape \n",
    "print (N_train, N_test)"
   ]
  },
  {
   "cell_type": "markdown",
   "id": "a6473c2e",
   "metadata": {},
   "source": [
    "With the given parameters, 4517 objects will fall into the training sample"
   ]
  },
  {
   "cell_type": "markdown",
   "id": "be434556",
   "metadata": {},
   "source": [
    "### t-SNE"
   ]
  },
  {
   "cell_type": "code",
   "execution_count": 16,
   "id": "8111b373",
   "metadata": {},
   "outputs": [
    {
     "data": {
      "text/plain": [
       "<matplotlib.collections.PathCollection at 0x1d6e9bd62b0>"
      ]
     },
     "execution_count": 16,
     "metadata": {},
     "output_type": "execute_result"
    },
    {
     "data": {
      "image/png": "[encoded data removed]",
      "text/plain": [
       "<Figure size 432x288 with 1 Axes>"
      ]
     },
     "metadata": {
      "needs_background": "light"
     },
     "output_type": "display_data"
    }
   ],
   "source": [
    "scaler = StandardScaler()\n",
    "X_scaled = scaler.fit_transform(train)\n",
    "\n",
    "tsne = TSNE(random_state=17)\n",
    "tsne_representation = tsne.fit_transform(X_scaled)\n",
    "\n",
    "plt.scatter(tsne_representation[:, 0], tsne_representation[:, 1])"
   ]
  },
  {
   "cell_type": "markdown",
   "id": "258da77a",
   "metadata": {},
   "source": [
    "Visually, the sample can be divided into 4 classes.\n",
    "The boundaries of these classes pass along the lines, forming X, the objects of the classes are inside these boundaries.\n",
    "Or into 2 classes, taking as one of them all the points that form lines, thereby forming X. For the second class - all the rest, not forming lines, but lying in a scatter."
   ]
  },
  {
   "cell_type": "markdown",
   "id": "7bc66a12",
   "metadata": {},
   "source": [
    "### Principal component analysis"
   ]
  },
  {
   "cell_type": "code",
   "execution_count": 52,
   "id": "731e333e",
   "metadata": {},
   "outputs": [],
   "source": [
    "data1 = data1.drop([\"year\"], axis=1) \n",
    "\n",
    "test = data1[\"number\"]\n",
    "train = data1.drop(['number'], axis=1) "
   ]
  },
  {
   "cell_type": "code",
   "execution_count": 75,
   "id": "8bdf4106",
   "metadata": {},
   "outputs": [
    {
     "data": {
      "text/plain": [
       "<matplotlib.lines.Line2D at 0x1eb1a398f40>"
      ]
     },
     "execution_count": 75,
     "metadata": {},
     "output_type": "execute_result"
    },
    {
     "data": {
      "image/png": "[encoded data removed]",
      "text/plain": [
       "<Figure size 720x504 with 1 Axes>"
      ]
     },
     "metadata": {
      "needs_background": "light"
     },
     "output_type": "display_data"
    }
   ],
   "source": [
    "pca = PCA().fit(train)\n",
    "\n",
    "plt.figure(figsize=(10,7))\n",
    "plt.plot( np.array(range(1, 10)), np.cumsum(pca.explained_variance_ratio_), lw=2)\n",
    "plt.axhline(0.9, c='r')\n",
    "plt.axvline(6, c='b')"
   ]
  },
  {
   "cell_type": "markdown",
   "id": "94abe5d3",
   "metadata": {},
   "source": [
    "6 components are enough to describe 90% of the data variance"
   ]
  },
  {
   "cell_type": "code",
   "execution_count": 59,
   "id": "219ff640",
   "metadata": {},
   "outputs": [
    {
     "name": "stdout",
     "output_type": "stream",
     "text": [
      "1 component: 20.99% of initial variance\n",
      "0.002 x IsWinter + -0.001 x IsSpring + -0.001 x IsSummer + -0.001 x IsAutumn + -0.495 x IsNorth + 0.847 x IsNorthWest + -0.166 x IsCenterWest + -0.100 x IsSouthWest + -0.024 x IsSouth\n",
      "2 component: 38.71% of initial variance\n",
      "-0.000 x IsWinter + 0.815 x IsSpring + -0.447 x IsSummer + -0.368 x IsAutumn + 0.000 x IsNorth + -0.000 x IsNorthWest + 0.000 x IsCenterWest + 0.000 x IsSouthWest + 0.000 x IsSouth\n",
      "3 component: 56.42% of initial variance\n",
      "-0.000 x IsWinter + -0.046 x IsSpring + -0.683 x IsSummer + 0.729 x IsAutumn + -0.000 x IsNorth + 0.000 x IsNorthWest + 0.000 x IsCenterWest + 0.000 x IsSouthWest + 0.000 x IsSouth\n",
      "4 component: 73.93% of initial variance\n",
      "0.866 x IsWinter + -0.289 x IsSpring + -0.289 x IsSummer + -0.289 x IsAutumn + 0.001 x IsNorth + -0.001 x IsNorthWest + 0.000 x IsCenterWest + 0.000 x IsSouthWest + 0.000 x IsSouth\n",
      "5 component: 86.62% of initial variance\n",
      "0.000 x IsWinter + -0.000 x IsSpring + -0.000 x IsSummer + -0.000 x IsAutumn + -0.701 x IsNorth + -0.260 x IsNorthWest + 0.627 x IsCenterWest + 0.217 x IsSouthWest + 0.035 x IsSouth\n",
      "6 component: 95.37% of initial variance\n",
      "0.000 x IsWinter + -0.000 x IsSpring + -0.000 x IsSummer + -0.000 x IsAutumn + -0.207 x IsNorth + -0.138 x IsNorthWest + -0.563 x IsCenterWest + 0.787 x IsSouthWest + 0.039 x IsSouth\n",
      "7 component: 98.77% of initial variance\n",
      "0.000 x IsWinter + -0.000 x IsSpring + -0.000 x IsSummer + -0.000 x IsAutumn + -0.289 x IsNorth + -0.260 x IsNorthWest + -0.335 x IsCenterWest + -0.399 x IsSouthWest + 0.760 x IsSouth\n",
      "8 component: 100.0% of initial variance\n",
      "0.000 x IsWinter + -0.000 x IsSpring + -0.000 x IsSummer + -0.000 x IsAutumn + -0.371 x IsNorth + -0.359 x IsNorthWest + -0.387 x IsCenterWest + -0.406 x IsSouthWest + -0.648 x IsSouth\n",
      "9 component: 100.0% of initial variance\n",
      "-0.500 x IsWinter + -0.500 x IsSpring + -0.500 x IsSummer + -0.500 x IsAutumn + -0.000 x IsNorth + -0.000 x IsNorthWest + 0.000 x IsCenterWest + 0.000 x IsSouthWest + 0.000 x IsSouth\n"
     ]
    }
   ],
   "source": [
    "for i, component in enumerate(pca.components_):\n",
    "    print(\"{} component: {}% of initial variance\".format(i+1, \n",
    "          round(100 * np.cumsum(pca.explained_variance_ratio_)[i], 2)))\n",
    "    print(\" + \".join(\"%.3f x %s\" % (value, name)\n",
    "                     for value, name in zip(component,train.columns)))"
   ]
  },
  {
   "cell_type": "markdown",
   "id": "ea571ebc",
   "metadata": {},
   "source": [
    "6 components describe 95% of the data variance. The largest contribution is made by the \"IsSouthWest\" parameter - whether the fire is located in the state in the southeast of the country, before it there is a multiplier of 0.787"
   ]
  }
 ],
 "metadata": {
  "kernelspec": {
   "display_name": "Python 3",
   "language": "python",
   "name": "python3"
  },
  "language_info": {
   "codemirror_mode": {
    "name": "ipython",
    "version": 3
   },
   "file_extension": ".py",
   "mimetype": "text/x-python",
   "name": "python",
   "nbconvert_exporter": "python",
   "pygments_lexer": "ipython3",
   "version": "3.8.8"
  }
 },
 "nbformat": 4,
 "nbformat_minor": 5
}
